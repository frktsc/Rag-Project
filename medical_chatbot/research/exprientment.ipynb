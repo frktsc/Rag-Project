{
 "cells": [
  {
   "cell_type": "code",
   "execution_count": 1,
   "metadata": {},
   "outputs": [
    {
     "name": "stdout",
     "output_type": "stream",
     "text": [
      "OKAY\n"
     ]
    }
   ],
   "source": [
    "print(\"OKAY\")"
   ]
  },
  {
   "cell_type": "code",
   "execution_count": 2,
   "metadata": {},
   "outputs": [
    {
     "name": "stderr",
     "output_type": "stream",
     "text": [
      "c:\\Users\\furkanbaba\\anaconda3\\envs\\spartacus\\lib\\site-packages\\pinecone\\data\\index.py:1: TqdmWarning: IProgress not found. Please update jupyter and ipywidgets. See https://ipywidgets.readthedocs.io/en/stable/user_install.html\n",
      "  from tqdm.autonotebook import tqdm\n"
     ]
    }
   ],
   "source": [
    "from langchain import PromptTemplate\n",
    "from langchain.chains import RetrievalQA\n",
    "from langchain.embeddings import HuggingFaceEmbeddings\n",
    "from pinecone import Pinecone\n",
    "from langchain.document_loaders import DirectoryLoader, PyPDFLoader\n",
    "from langchain.text_splitter import RecursiveCharacterTextSplitter\n",
    "from langchain.llms import CTransformers\n",
    "import os\n",
    "from dotenv import load_dotenv\n",
    "from langchain_pinecone import PineconeVectorStore\n",
    "\n",
    "from langchain.chains.combine_documents import create_stuff_documents_chain\n",
    "from langchain.chains import create_retrieval_chain"
   ]
  },
  {
   "cell_type": "code",
   "execution_count": 3,
   "metadata": {},
   "outputs": [
    {
     "data": {
      "text/plain": [
       "True"
      ]
     },
     "execution_count": 3,
     "metadata": {},
     "output_type": "execute_result"
    }
   ],
   "source": [
    "load_dotenv()"
   ]
  },
  {
   "cell_type": "code",
   "execution_count": 4,
   "metadata": {},
   "outputs": [],
   "source": [
    "PINECONE_API_KEY = os.environ.get('PINECONE_API_KEY')\n",
    "PINECONE_API_ENV = \"gcp-starter\""
   ]
  },
  {
   "cell_type": "code",
   "execution_count": 5,
   "metadata": {},
   "outputs": [],
   "source": [
    "def data_loader(data):\n",
    "    loader = DirectoryLoader(data, glob=\"*.pdf\", loader_cls=PyPDFLoader)\n",
    "\n",
    "    documents=loader.load()\n",
    "\n",
    "    return documents\n"
   ]
  },
  {
   "cell_type": "code",
   "execution_count": 6,
   "metadata": {},
   "outputs": [],
   "source": [
    "extracted_data= data_loader(\"data/\")"
   ]
  },
  {
   "cell_type": "code",
   "execution_count": 7,
   "metadata": {},
   "outputs": [],
   "source": [
    "#extracted_data"
   ]
  },
  {
   "cell_type": "code",
   "execution_count": 8,
   "metadata": {},
   "outputs": [],
   "source": [
    "def text_splitter(extracted_data):\n",
    "    splitter = RecursiveCharacterTextSplitter(chunk_size=1000,chunk_overlap=100)\n",
    "    text_chunks = splitter.split_documents(extracted_data)\n",
    "    return text_chunks\n"
   ]
  },
  {
   "cell_type": "code",
   "execution_count": 9,
   "metadata": {},
   "outputs": [
    {
     "name": "stdout",
     "output_type": "stream",
     "text": [
      "length of text: 3367\n"
     ]
    }
   ],
   "source": [
    "text_chunks = text_splitter(extracted_data)\n",
    "print(\"length of text:\", len(text_chunks))"
   ]
  },
  {
   "cell_type": "code",
   "execution_count": 10,
   "metadata": {},
   "outputs": [],
   "source": [
    "def download_embeddings():\n",
    "    embeddings = HuggingFaceEmbeddings(model_name=\"sentence-transformers/all-MiniLM-L6-v2\")\n",
    "    return embeddings"
   ]
  },
  {
   "cell_type": "code",
   "execution_count": 11,
   "metadata": {},
   "outputs": [],
   "source": [
    "embeddings = download_embeddings()"
   ]
  },
  {
   "cell_type": "code",
   "execution_count": 12,
   "metadata": {},
   "outputs": [
    {
     "name": "stdout",
     "output_type": "stream",
     "text": [
      "client=SentenceTransformer(\n",
      "  (0): Transformer({'max_seq_length': 256, 'do_lower_case': False}) with Transformer model: BertModel \n",
      "  (1): Pooling({'word_embedding_dimension': 384, 'pooling_mode_cls_token': False, 'pooling_mode_mean_tokens': True, 'pooling_mode_max_tokens': False, 'pooling_mode_mean_sqrt_len_tokens': False})\n",
      "  (2): Normalize()\n",
      ") model_name='sentence-transformers/all-MiniLM-L6-v2' cache_folder=None model_kwargs={} encode_kwargs={} multi_process=False show_progress=False\n"
     ]
    }
   ],
   "source": [
    "print(embeddings)"
   ]
  },
  {
   "cell_type": "code",
   "execution_count": 13,
   "metadata": {},
   "outputs": [
    {
     "name": "stdout",
     "output_type": "stream",
     "text": [
      "length: 384\n"
     ]
    }
   ],
   "source": [
    "query_results = embeddings.embed_query(\"HI, how are you feeling today ?\")\n",
    "print(\"length:\",len(query_results))"
   ]
  },
  {
   "cell_type": "code",
   "execution_count": 14,
   "metadata": {},
   "outputs": [
    {
     "data": {
      "text/plain": [
       "[-0.04761326313018799,\n",
       " 0.012561398558318615,\n",
       " 0.08829054236412048,\n",
       " 0.016965650022029877,\n",
       " 0.04545752331614494,\n",
       " -0.04732634872198105,\n",
       " 0.09706729650497437,\n",
       " -0.01631682924926281,\n",
       " -0.05710430443286896,\n",
       " -0.007524485699832439,\n",
       " -0.04716635122895241,\n",
       " 0.011600297875702381,\n",
       " -0.017519285902380943,\n",
       " 0.019553260877728462,\n",
       " 0.03404289856553078,\n",
       " -0.003682906273752451,\n",
       " 0.004642177373170853,\n",
       " -0.09220511466264725,\n",
       " -0.12892168760299683,\n",
       " 0.08274782449007034,\n",
       " -0.08603700250387192,\n",
       " -0.013935116119682789,\n",
       " -0.05553831160068512,\n",
       " 0.09202856570482254,\n",
       " 0.01082191988825798,\n",
       " 0.052058979868888855,\n",
       " 0.0026824248488992453,\n",
       " 0.009897642768919468,\n",
       " -0.011292709037661552,\n",
       " -0.11285684257745743,\n",
       " -0.04507773369550705,\n",
       " 0.026827633380889893,\n",
       " -0.022926315665245056,\n",
       " -0.022284774109721184,\n",
       " -0.004771487321704626,\n",
       " 0.025244969874620438,\n",
       " -0.0174946840852499,\n",
       " -0.16253238916397095,\n",
       " -0.004957687109708786,\n",
       " -0.011241892352700233,\n",
       " 0.03618461638689041,\n",
       " -0.024022530764341354,\n",
       " 0.017015555873513222,\n",
       " -0.003711586119607091,\n",
       " 0.06692691892385483,\n",
       " -0.03831528499722481,\n",
       " -0.010857300832867622,\n",
       " 0.058981072157621384,\n",
       " 0.11598575115203857,\n",
       " -0.027211155742406845,\n",
       " -0.0961468517780304,\n",
       " 0.025413040071725845,\n",
       " -0.025521738454699516,\n",
       " 0.025664888322353363,\n",
       " 0.03168531134724617,\n",
       " 0.059500742703676224,\n",
       " -0.026404360309243202,\n",
       " -0.036931633949279785,\n",
       " 0.06278203427791595,\n",
       " -0.0393734835088253,\n",
       " 0.003042165655642748,\n",
       " 0.027457663789391518,\n",
       " -0.0045316182076931,\n",
       " 0.027196994051337242,\n",
       " 0.02450094185769558,\n",
       " -0.0004190421896055341,\n",
       " -0.09640143811702728,\n",
       " -0.09469252079725266,\n",
       " -0.015056800097227097,\n",
       " 0.023012476041913033,\n",
       " -0.005610352847725153,\n",
       " -0.06006689369678497,\n",
       " 0.005120733752846718,\n",
       " -0.09030959010124207,\n",
       " -0.04853737726807594,\n",
       " -0.07350938022136688,\n",
       " 0.010963693261146545,\n",
       " 0.016355177387595177,\n",
       " 0.01957351341843605,\n",
       " -0.023148823529481888,\n",
       " 0.06028837338089943,\n",
       " -0.00712094409391284,\n",
       " 0.011268375441432,\n",
       " -0.014114903286099434,\n",
       " -0.06901911646127701,\n",
       " 0.014348949305713177,\n",
       " 0.006581146735697985,\n",
       " 0.04343342408537865,\n",
       " -0.03701663017272949,\n",
       " -0.01217323075979948,\n",
       " -0.05128619447350502,\n",
       " 0.05452640354633331,\n",
       " -0.016103042289614677,\n",
       " 0.03651779890060425,\n",
       " 0.016213474795222282,\n",
       " -0.07916902750730515,\n",
       " 0.015253051184117794,\n",
       " 0.049150288105010986,\n",
       " -0.07835382223129272,\n",
       " 0.13901592791080475,\n",
       " 0.029612001031637192,\n",
       " 0.1443471610546112,\n",
       " 0.006551285274326801,\n",
       " 0.014596408233046532,\n",
       " -0.008221953175961971,\n",
       " 0.05864277109503746,\n",
       " -0.07562517374753952,\n",
       " 0.08113015443086624,\n",
       " -0.0797431543469429,\n",
       " -0.08615230023860931,\n",
       " 0.005698558408766985,\n",
       " 0.01836949959397316,\n",
       " -0.0396837443113327,\n",
       " -0.07105931639671326,\n",
       " 0.020355572924017906,\n",
       " -0.002542835660278797,\n",
       " 0.0270417220890522,\n",
       " 0.05448879301548004,\n",
       " 0.00966122280806303,\n",
       " 0.09549807012081146,\n",
       " -0.0032546764705330133,\n",
       " 0.026472020894289017,\n",
       " 0.011316051706671715,\n",
       " 0.01118493266403675,\n",
       " -0.004225424490869045,\n",
       " 0.06614403426647186,\n",
       " 0.05003556236624718,\n",
       " -6.1111828062579555e-33,\n",
       " 0.08032534271478653,\n",
       " -0.005434530321508646,\n",
       " 0.059177931398153305,\n",
       " 0.13439638912677765,\n",
       " -0.08467306941747665,\n",
       " -0.05532708764076233,\n",
       " -0.020635314285755157,\n",
       " -0.0019421330653131008,\n",
       " -0.004180073272436857,\n",
       " -0.026171570643782616,\n",
       " 0.0002681972982827574,\n",
       " 0.010972658172249794,\n",
       " -0.027217986062169075,\n",
       " 0.02341581881046295,\n",
       " -0.08157915621995926,\n",
       " -0.011107909493148327,\n",
       " -0.06403610110282898,\n",
       " 0.020030666142702103,\n",
       " 0.011828905902802944,\n",
       " 0.13389477133750916,\n",
       " -0.03366228938102722,\n",
       " -0.002750176237896085,\n",
       " -0.03265326842665672,\n",
       " 0.057088494300842285,\n",
       " 0.04450485482811928,\n",
       " 0.01754683256149292,\n",
       " -0.04960222169756889,\n",
       " -0.08023493736982346,\n",
       " -0.02719675749540329,\n",
       " 0.013133104890584946,\n",
       " -0.06363189220428467,\n",
       " -0.023545922711491585,\n",
       " 0.0774155929684639,\n",
       " -0.014904662035405636,\n",
       " -0.027971889823675156,\n",
       " -0.0293628741055727,\n",
       " 0.013722813688218594,\n",
       " 0.03124009631574154,\n",
       " -0.0060032508336007595,\n",
       " -0.029028328135609627,\n",
       " 0.016361813992261887,\n",
       " 0.03278769552707672,\n",
       " 0.07850942015647888,\n",
       " -0.06912560015916824,\n",
       " -0.004464644473046064,\n",
       " 0.006254259962588549,\n",
       " -0.041770827025175095,\n",
       " 0.051669031381607056,\n",
       " 0.015492687933146954,\n",
       " -0.02485901117324829,\n",
       " -0.11788567155599594,\n",
       " 0.02712092362344265,\n",
       " -0.05599048733711243,\n",
       " -0.004050203133374453,\n",
       " -0.037393152713775635,\n",
       " -0.03520670160651207,\n",
       " -0.07496125996112823,\n",
       " 0.023681143298745155,\n",
       " 0.04632075875997543,\n",
       " 0.06387896090745926,\n",
       " 0.018601303920149803,\n",
       " 0.06033197417855263,\n",
       " 0.016619490459561348,\n",
       " -0.08294430375099182,\n",
       " -0.07378426194190979,\n",
       " -0.03666212037205696,\n",
       " -0.016853339970111847,\n",
       " -0.02286950685083866,\n",
       " 0.052199024707078934,\n",
       " -0.0005014653434045613,\n",
       " 0.007148840930312872,\n",
       " -0.008033175021409988,\n",
       " 0.009256212040781975,\n",
       " 0.03600051626563072,\n",
       " 0.05946429446339607,\n",
       " 0.07477681338787079,\n",
       " 0.021129723638296127,\n",
       " -0.08963735401630402,\n",
       " -0.010151557624340057,\n",
       " 0.011460933834314346,\n",
       " 0.0551299974322319,\n",
       " 0.03599505126476288,\n",
       " 0.060111481696367264,\n",
       " -0.04355836287140846,\n",
       " 0.06281376630067825,\n",
       " 0.03225132077932358,\n",
       " -0.042990922927856445,\n",
       " -0.06629574298858643,\n",
       " -0.04129486531019211,\n",
       " 0.06154337897896767,\n",
       " -0.027210401371121407,\n",
       " 0.04300614818930626,\n",
       " 0.10531693696975708,\n",
       " -0.012709936127066612,\n",
       " -0.04117884486913681,\n",
       " 4.5300102939455266e-33,\n",
       " 0.12970536947250366,\n",
       " 0.02050248347222805,\n",
       " -0.09941056370735168,\n",
       " 0.03182050585746765,\n",
       " -0.08256608992815018,\n",
       " -0.0434756763279438,\n",
       " -0.005757417995482683,\n",
       " 0.10032391548156738,\n",
       " -0.07703682780265808,\n",
       " 0.07347062975168228,\n",
       " 0.06369192898273468,\n",
       " 0.010190987959504128,\n",
       " 0.01497482880949974,\n",
       " 0.043248530477285385,\n",
       " 0.02904050052165985,\n",
       " 0.02043427899479866,\n",
       " 0.08309655636548996,\n",
       " 0.021458391100168228,\n",
       " -0.027046583592891693,\n",
       " -0.005041304975748062,\n",
       " -0.10161865502595901,\n",
       " 0.08774440735578537,\n",
       " -0.0020915973000228405,\n",
       " 0.05726247280836105,\n",
       " 0.020585333928465843,\n",
       " 0.017042966559529305,\n",
       " 0.0341772735118866,\n",
       " 0.054296672344207764,\n",
       " -0.039875950664281845,\n",
       " -0.04715968295931816,\n",
       " 0.0018666937248781323,\n",
       " -0.008759654127061367,\n",
       " -0.02219652757048607,\n",
       " 0.07480249553918839,\n",
       " -0.0021473634988069534,\n",
       " 0.04327206686139107,\n",
       " 0.012489131651818752,\n",
       " -0.06491493433713913,\n",
       " -0.03581872954964638,\n",
       " -0.03739028424024582,\n",
       " -0.07370753586292267,\n",
       " 0.03561902046203613,\n",
       " -0.03841983154416084,\n",
       " 0.07561857253313065,\n",
       " 0.02363271825015545,\n",
       " -0.0030378743540495634,\n",
       " 0.015418893657624722,\n",
       " -0.008097018115222454,\n",
       " -0.061072736978530884,\n",
       " 0.07741367816925049,\n",
       " 0.0049707177095115185,\n",
       " 0.03240547701716423,\n",
       " 0.012207494117319584,\n",
       " 0.0018145585199818015,\n",
       " 0.04785327985882759,\n",
       " -0.0076067037880420685,\n",
       " -0.08427751064300537,\n",
       " -0.08298486471176147,\n",
       " -0.020301679149270058,\n",
       " -0.007429022807627916,\n",
       " -0.06453477591276169,\n",
       " -0.03227122128009796,\n",
       " -0.040127646178007126,\n",
       " 0.00013727035548072308,\n",
       " 0.05213247612118721,\n",
       " -0.009950096718966961,\n",
       " 0.0007261564023792744,\n",
       " 0.004373859614133835,\n",
       " -0.025990623980760574,\n",
       " -0.062026429921388626,\n",
       " -0.016961174085736275,\n",
       " -0.022190600633621216,\n",
       " -0.027277406305074692,\n",
       " -0.029279425740242004,\n",
       " 0.01389031857252121,\n",
       " 0.048090413212776184,\n",
       " 0.062304310500621796,\n",
       " 0.015063938684761524,\n",
       " -0.009540923871099949,\n",
       " 0.035179052501916885,\n",
       " -0.08595262467861176,\n",
       " 0.03175417333841324,\n",
       " 0.053045645356178284,\n",
       " -0.16017381846904755,\n",
       " -0.08227818459272385,\n",
       " -0.04304322972893715,\n",
       " 0.04980603978037834,\n",
       " 0.015304047614336014,\n",
       " -0.015491845086216927,\n",
       " 0.02316984347999096,\n",
       " -0.03427283838391304,\n",
       " 0.06530497968196869,\n",
       " -0.0179302878677845,\n",
       " 0.058841802179813385,\n",
       " 0.02765660546720028,\n",
       " -1.5562047650519162e-08,\n",
       " 0.029788857325911522,\n",
       " 0.01225754152983427,\n",
       " -0.09215444326400757,\n",
       " 0.0006565178046002984,\n",
       " -0.0006955254357308149,\n",
       " 0.03499624878168106,\n",
       " -0.027349092066287994,\n",
       " -0.020030690357089043,\n",
       " -0.04274827986955643,\n",
       " 0.009539668448269367,\n",
       " 0.08623749762773514,\n",
       " 0.016156993806362152,\n",
       " -0.11096122860908508,\n",
       " -0.02677479200065136,\n",
       " 0.04992859065532684,\n",
       " 0.01669437810778618,\n",
       " 0.061423446983098984,\n",
       " 0.07969382405281067,\n",
       " -0.04953118786215782,\n",
       " -0.08915872871875763,\n",
       " 0.06773187220096588,\n",
       " 0.05139760673046112,\n",
       " -0.04315846785902977,\n",
       " 0.1150633692741394,\n",
       " 0.06953809410333633,\n",
       " 0.0145674217492342,\n",
       " 0.0007265318417921662,\n",
       " 0.014341392554342747,\n",
       " -0.01629386469721794,\n",
       " 0.05266863480210304,\n",
       " 0.014182129874825478,\n",
       " 0.10517531633377075,\n",
       " -0.07402241975069046,\n",
       " 0.012202700600028038,\n",
       " -0.005333790089935064,\n",
       " -0.051136329770088196,\n",
       " 0.0766465812921524,\n",
       " -0.04748876765370369,\n",
       " 0.04121122881770134,\n",
       " -0.013787666335701942,\n",
       " -0.020048296079039574,\n",
       " -0.02838192507624626,\n",
       " -0.09096206724643707,\n",
       " -0.02969689667224884,\n",
       " 0.07535522431135178,\n",
       " -0.03457614406943321,\n",
       " 0.0589282289147377,\n",
       " -0.04327181354165077,\n",
       " -0.025084909051656723,\n",
       " -0.012424562126398087,\n",
       " 0.01017239224165678,\n",
       " 0.0428529791533947,\n",
       " 0.041972026228904724,\n",
       " 0.06772071868181229,\n",
       " 0.045666128396987915,\n",
       " 0.033938657492399216,\n",
       " -0.027017882093787193,\n",
       " 0.05099306255578995,\n",
       " -0.030034437775611877,\n",
       " 0.025854241102933884,\n",
       " 0.045036207884550095,\n",
       " -0.0064181131310760975,\n",
       " -0.053877152502536774,\n",
       " 0.03330359235405922]"
      ]
     },
     "execution_count": 14,
     "metadata": {},
     "output_type": "execute_result"
    }
   ],
   "source": [
    "query_results"
   ]
  },
  {
   "cell_type": "code",
   "execution_count": 15,
   "metadata": {},
   "outputs": [],
   "source": [
    "pc = Pinecone(api_key=PINECONE_API_KEY)\n",
    "index = pc.Index('medical-chatbot') "
   ]
  },
  {
   "cell_type": "code",
   "execution_count": 16,
   "metadata": {},
   "outputs": [
    {
     "data": {
      "text/plain": [
       "{'dimension': 384,\n",
       " 'index_fullness': 0.12101,\n",
       " 'namespaces': {'': {'vector_count': 12101}},\n",
       " 'total_vector_count': 12101}"
      ]
     },
     "execution_count": 16,
     "metadata": {},
     "output_type": "execute_result"
    }
   ],
   "source": [
    "index.describe_index_stats()"
   ]
  },
  {
   "cell_type": "code",
   "execution_count": 17,
   "metadata": {},
   "outputs": [],
   "source": [
    "index_name=\"medical-chatbot\"\n",
    "docsearch = PineconeVectorStore.from_texts([t.page_content for t in text_chunks], embeddings, index_name=index_name)"
   ]
  },
  {
   "cell_type": "code",
   "execution_count": 58,
   "metadata": {},
   "outputs": [
    {
     "name": "stdout",
     "output_type": "stream",
     "text": [
      "Resources\n",
      "BOOKS\n",
      "A Manual of Laboratory and Diagnostic Tests. 5th ed. Ed.\n",
      "Francis Fishback. Philadelphia: Lippincott, 1996.\n",
      "Garza, Diana, and Kathleen Becan-McBride. Phlebotomy\n",
      "Handbook. 4th ed. Stamford: Appleton & Lange, 1996.\n",
      "PERIODICALS\n",
      "Moul, Judd W., et al. “The Contemporary Value of Pretreat-\n",
      "ment Prostatic Acid Phosphatase to Predict PathologicalStage and Recurrence in Radical Prostatectomy Cases.”Journal of Urology (Mar. 1998): 935-940.\n",
      "Nancy J. Nordenson\n",
      "Acid reflux seeHeartburn\n",
      "Acidosis seeRespiratory acidosis; Renal\n",
      "tubular acidosis; Metabolic acidosis\n",
      "Acne\n",
      "Definition\n",
      "Acne is a common skin disease characterized by\n",
      "pimples on the face, chest, and back. It occurs when thepores of the skin become clogged with oil, dead skincells, and bacteria.\n",
      "Description\n",
      "Acne vulgaris, the medical term for common acne, is\n",
      "the most common skin disease. It affects nearly 17 millionpeople in the United States. While acne can arise at anyage, it usually begins at puberty and worsens during ado-\n"
     ]
    }
   ],
   "source": [
    "query = \"What is  acne?\"\n",
    "docs = docsearch.similarity_search(query)\n",
    "print(docs[0].page_content)"
   ]
  },
  {
   "cell_type": "code",
   "execution_count": 59,
   "metadata": {},
   "outputs": [],
   "source": [
    "prompt_template=\"\"\"\n",
    "Use the following pieces of information to answer the user's question.\n",
    "If you don't know the answer, just say that you don't know, don't try to make up an answer.\n",
    "\n",
    "Context: {context}\n",
    "Question: {question}\n",
    "\n",
    "Only return the helpful answer below and nothing else.\n",
    "Helpful answer:\n",
    "\"\"\""
   ]
  },
  {
   "cell_type": "code",
   "execution_count": 60,
   "metadata": {},
   "outputs": [],
   "source": [
    "PROMPT=PromptTemplate(template=prompt_template, input_variables=[\"context\", \"question\"])\n",
    "chain_type_kwargs={\"prompt\": PROMPT}"
   ]
  },
  {
   "cell_type": "code",
   "execution_count": 61,
   "metadata": {},
   "outputs": [],
   "source": [
    "llm=CTransformers(model=\"model/llama-2-7b-chat.ggmlv3.q4_0 (1).bin\",\n",
    "                  model_type=\"llama\",\n",
    "                  config={'max_new_tokens':512,\n",
    "                          'temperature':0.8})"
   ]
  },
  {
   "cell_type": "code",
   "execution_count": 62,
   "metadata": {},
   "outputs": [],
   "source": [
    "retriever=docsearch.as_retriever(search_kwargs={'k': 2})"
   ]
  },
  {
   "cell_type": "code",
   "execution_count": 42,
   "metadata": {},
   "outputs": [],
   "source": [
    "combine_docs_chain = create_stuff_documents_chain(llm, PROMPT)\n",
    "retrieval_chain = create_retrieval_chain(retriever, combine_docs_chain)"
   ]
  },
  {
   "cell_type": "code",
   "execution_count": 63,
   "metadata": {},
   "outputs": [],
   "source": [
    "qa=RetrievalQA.from_chain_type(\n",
    "    llm=llm, \n",
    "    chain_type=\"stuff\", \n",
    "    retriever=retriever,\n",
    "    return_source_documents=True, \n",
    "    chain_type_kwargs=chain_type_kwargs)"
   ]
  },
  {
   "cell_type": "code",
   "execution_count": null,
   "metadata": {},
   "outputs": [],
   "source": [
    "while True:\n",
    "    user_input=input(f\"Input Prompt:\")\n",
    "    result=qa({\"query\": user_input})\n",
    "    print(\"Response : \", result[\"result\"])"
   ]
  },
  {
   "cell_type": "code",
   "execution_count": null,
   "metadata": {},
   "outputs": [],
   "source": []
  }
 ],
 "metadata": {
  "kernelspec": {
   "display_name": "spartacus",
   "language": "python",
   "name": "python3"
  },
  "language_info": {
   "codemirror_mode": {
    "name": "ipython",
    "version": 3
   },
   "file_extension": ".py",
   "mimetype": "text/x-python",
   "name": "python",
   "nbconvert_exporter": "python",
   "pygments_lexer": "ipython3",
   "version": "3.10.0"
  }
 },
 "nbformat": 4,
 "nbformat_minor": 2
}
